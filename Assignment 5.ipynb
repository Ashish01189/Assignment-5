{
  "metadata": {
    "kernelspec": {
      "name": "python",
      "display_name": "Python (Pyodide)",
      "language": "python"
    },
    "language_info": {
      "codemirror_mode": {
        "name": "python",
        "version": 3
      },
      "file_extension": ".py",
      "mimetype": "text/x-python",
      "name": "python",
      "nbconvert_exporter": "python",
      "pygments_lexer": "ipython3",
      "version": "3.8"
    }
  },
  "nbformat_minor": 5,
  "nbformat": 4,
  "cells": [
    {
      "id": "e9993f21-1405-4aba-9008-196de5acefde",
      "cell_type": "markdown",
      "source": "# Python OOPs Questions",
      "metadata": {}
    },
    {
      "id": "5f3a2445-f280-4459-9349-0f83b5760824",
      "cell_type": "code",
      "source": "# 1. What is Object-Oriented Programming (OOP)?\n    # Object-Oriented Programming (OOP) is a programming paradigm that organizes software design around objects rather than functions or logic. In OOP, objects are instances of classes that bundle both data (attributes) and methods (functions) that operate on the data.\n\n# Core Concepts of OOP\n    # 1. Class – A blueprint for creating objects. It defines the attributes and methods the objects will have.\n    # 2. Object – An instance of a class that contains the data and methods defined in the class.\n    # 3. Encapsulation – Bundling data and methods into a single unit (class) and restricting access to certain components.\n    # 4. Abstraction – Hiding complex implementation details and showing only the necessary features.\n    # 5. Inheritance – Creating a new class based on an existing class to reuse and extend functionality.\n    # 6. Polymorphism – Ability to present the same interface for different data types or objects, enabling code flexibility.\n\n# Example\n\nclass Animal:\n    def __init__(self, name):\n        self.name = name\n    \n    def speak(self):\n        pass\n\nclass Dog(Animal):\n    def speak(self):\n        return f\"{self.name} says Woof!\"\n\nclass Cat(Animal):\n    def speak(self):\n        return f\"{self.name} says Meow!\"\n\ndog = Dog(\"Buddy\")\ncat = Cat(\"Whiskers\")\n\nprint(dog.speak())\nprint(cat.speak()) \n\n# Advantages of OOP\n    # a. Promotes code reusability through inheritance.\n    # b. Improves code organization and readability.\n    # c. Facilitates maintenance and scaling.\n    # d. Increases flexibility with polymorphism.",
      "metadata": {
        "trusted": true
      },
      "outputs": [],
      "execution_count": null
    },
    {
      "id": "1906c38a-7c8e-48f0-bdf9-b516bc635f6b",
      "cell_type": "code",
      "source": "# 2. What is a class in OOP?\n    # In Object-Oriented Programming (OOP), a class is a blueprint or template for creating objects. A class defines the attributes (data) and methods (functions) that the objects created from the class will have.\n\n# Syntax \n\nclass ClassName:\n    \n    def __init__(self, param1, param2):\n        self.param1 = param1\n        self.param2 = param2\n    \n    def method_name(self):\n        print(f\"Values are {self.param1} and {self.param2}\")\n\n# Example\n\nclass Car:\n    \n    def __init__(self, brand, model):\n        self.brand = brand\n        self.model = model\n    \n    def display_info(self):\n        print(f\"This car is a {self.brand} {self.model}\")\n\ncar1 = Car(\"Toyota\", \"Camry\")\n\nprint(car1.brand)         \nprint(car1.model)        \ncar1.display_info() \n\n# Explanation\n    # 1. Class Definition:\nclass Car: – Defines a class named Car.\n\n    # 2. Constructor:\n__init__ is a special method used to initialize the attributes of an object when it is created.\n\n    # 3. Attributes:\nself.brand and self.model are attributes (data members).\n\n    # 4. Method:\ndisplay_info() is a method that operates on the object's data.\n\n    # 5. Object Creation:\ncar1 = Car(\"Toyota\", \"Camry\") creates an instance of the class Car.\n\n    # 6. Accessing Attributes and Methods:\ncar1.brand and car1.model access the object's attributes.\ncar1.display_info() calls the object's method.\n\n# Key Points\n    # self refers to the instance of the class.\n    # __init__ is called automatically when an object is created.\n    # A class can have multiple methods and attributes.\n    # A single class can create multiple objects.",
      "metadata": {
        "trusted": true
      },
      "outputs": [],
      "execution_count": null
    },
    {
      "id": "e8cf942d-4472-443d-8499-bf6442795d8c",
      "cell_type": "code",
      "source": "# 3. What is an object in OOP?\n    # In Object-Oriented Programming (OOP), an object is an instance of a class. An object represents a specific entity that combines data (attributes) and methods (functions) defined by the class.\n\n# Characteristics of an Object\n    # 1. State – Defined by the attributes of the object.\n    # 2. Behavior – Defined by the methods associated with the object.\n    # 3. Identity – A unique identifier that distinguishes one object from another.\n\n# Example \n\nclass Car:\n    def __init__(self, brand, model):\n        self.brand = brand\n        self.model = model\n    \n    def display_info(self):\n        print(f\"This car is a {self.brand} {self.model}\")\n\ncar1 = Car(\"Toyota\", \"Camry\")\ncar2 = Car(\"Honda\", \"Civic\")\n\nprint(car1.brand)\nprint(car2.model)\n\ncar1.display_info()\ncar2.display_info()\n\n# Explanation\n\n    # 1. Class Definition:\n        # Car is a class that defines the attributes and methods for car objects.\n\n    # 2. Object Creation:\n        # car1 = Car(\"Toyota\", \"Camry\") creates an object car1 with the brand set to \"Toyota\" and model set to \"Camry\".\n        # car2 = Car(\"Honda\", \"Civic\") creates another object with different attributes.\n\n    # 3. Accessing Attributes and Methods:\n        # car1.brand and car2.model access object attributes.\n        # car1.display_info() calls the method defined in the class.\n\n    # 4. Unique Identity:\n        # Each object (car1, car2) has a unique memory location and can have different attribute values.\n\n#  Key Points:\n    # An object is created from a class using the class's constructor (__init__).\n    # Multiple objects can be created from the same class.\n    # Objects hold their own state (attribute values) independently.\n    # Methods define how objects behave and interact with their attributes.",
      "metadata": {
        "trusted": true
      },
      "outputs": [],
      "execution_count": null
    },
    {
      "id": "59d3638e-b37f-46df-89b7-8547fb498c7d",
      "cell_type": "code",
      "source": "# 4. What is the difference between abstraction and encapsulation?\n    #  Abstraction \n\n        # 1. Abstraction is about hiding the \"how\" and showing only the essential features.\n        # 2. It allows the user to focus on what an object does rather than how it does it.\n        # 3. Achieved using abstract classes and interfaces.\n\n        #  Example\n            # When you drive a car, you only use the steering wheel and pedals — you don’t need to know how the engine works internally.\n            # In code, you create an abstract Animal class with a sound() method, but the actual sound is defined by subclasses like Dog or Cat.\n\nfrom abc import ABC, abstractmethod\n\nclass Animal(ABC):\n    def sound(self):\n        pass\n\nclass Dog(Animal):\n    def sound(self):\n        return \"Woof!\"\n\ndog = Dog()\nprint(dog.sound())\n\n    # Encapsulation \n\n        # 1. Encapsulation is about hiding the data and controlling access to it.\n        # 2. It allows you to restrict access to certain attributes and methods to prevent unintended changes.\n        # 3. Achieved using private attributes and getter/setter methods.\n\n    # Example\n\n        # A car’s speedometer is protected — you can’t directly modify it, but you can adjust the speed using the gas pedal (through controlled methods).\n        # In code, you make an attribute private using __ and control access using getter and setter methods.\n\nclass Car:\n    def __init__(self, brand):\n        self.__brand = brand\n    \n    def get_brand(self):\n        return self.__brand\n    \n    def set_brand(self, brand):\n        self.__brand = brand\n\ncar = Car(\"Toyota\")\nprint(car.get_brand())\n\ncar.set_brand(\"Honda\")\nprint(car.get_brand())\n\n    #  Key Difference\n        # 1. Abstraction → Focus on hiding complexity → \"What to do\"\n        # 2. Encapsulation → Focus on hiding data → \"How to protect it\"",
      "metadata": {
        "trusted": true
      },
      "outputs": [],
      "execution_count": null
    },
    {
      "id": "4e217393-bd7d-422d-b343-d56752f751f2",
      "cell_type": "code",
      "source": "# 5. What are dunder methods in Python?\n    # Dunder stands for \"Double Underscore\" — because these methods start and end with double underscores (__).\n    # They are also called \"magic methods\" because they allow you to customize how objects behave with Python’s built-in operations.\n    # Dunder methods let you define how objects interact with operators (+, -, ==) and functions (len(), str()), making your objects act like native Python objects.\n\n# Example\n\n    # __add__ → Defines how an object behaves with the + operator.\n    # __str__ → Defines how an object is converted to a string when print() is used.\n    # __len__ → Defines the length of an object when len() is called.\n\nclass Car:\n    def __init__(self, brand):\n        self.brand = brand\n    \n    def __str__(self):\n        return f\"Car Brand: {self.brand}\"\n\ncar = Car(\"Toyota\")\nprint(car) \n\n# 1. Initialization and Representation\n\nclass Person:\n    def __init__(self, name):\n        self.name = name\n    \n    def __str__(self):\n        return f\"Person: {self.name}\"\n    \n    def __repr__(self):\n        return f\"Person('{self.name}')\"\n\np = Person(\"Ashish\")\nprint(p)\nprint(repr(p))\n\n# 2. Operator Overloading\n\nclass Point:\n    def __init__(self, x, y):\n        self.x = x\n        self.y = y\n    \n    def __add__(self, other):\n        return Point(self.x + other.x, self.y + other.y)\n    \n    def __str__(self):\n        return f\"({self.x}, {self.y})\"\n\np1 = Point(2, 3)\np2 = Point(1, 4)\n\nresult = p1 + p2\nprint(result)\n\n# 3. Comparison Operators\n\nclass Box:\n    def __init__(self, value):\n        self.value = value\n    \n    def __eq__(self, other):\n        return self.value == other.value\n    \nb1 = Box(5)\nb2 = Box(5)\n\nprint(b1 == b2)\n\n# 4. Indexing and Length\n\nclass Container:\n    def __init__(self, items):\n        self.items = items\n    \n    def __getitem__(self, index):\n        return self.items[index]\n    \n    def __len__(self):\n        return len(self.items)\n\nc = Container([1, 2, 3, 4])\n\nprint(c[2])\nprint(len(c))\n\n# 5. Iteration\n\nclass Counter:\n    def __init__(self, limit):\n        self.limit = limit\n        self.value = 0\n    \n    def __iter__(self):\n        return self\n    \n    def __next__(self):\n        if self.value >= self.limit:\n            raise StopIteration\n        self.value += 1\n        return self.value\n\nc = Counter(3)\nfor i in c:\n    print(i)\n",
      "metadata": {
        "trusted": true
      },
      "outputs": [],
      "execution_count": null
    },
    {
      "id": "706fe766-5001-45c4-bd0e-4eb088a787d6",
      "cell_type": "code",
      "source": "# 6. Explain the concept of inheritance in OOP.\n    # Inheritance is an Object-Oriented Programming (OOP) concept that allows a new class (called the child class) to derive or inherit the properties and methods from an existing class (called the parent class).\n\n# Purpose of Inheritance\n    # Promotes code reuse – Reduces code duplication.\n    # Establishes a hierarchical relationship between classes.\n    # Allows the child class to extend or modify the parent class's behavior.\n\n# Syntax\n\nclass ParentClass:\n    pass\n\nclass ChildClass(ParentClass):\n    pass\n\n# Example\n\nclass Animal:\n    def speak(self):\n        print(\"Animal speaks\")\n\nclass Dog(Animal):\n    def bark(self):\n        print(\"Dog barks\")\n\ndog = Dog()\ndog.speak()\ndog.bark()\n\n# Types of Inheritance\n\n    # 1. Single Inheritance\nclass Animal:\n    def speak(self):\n        print(\"Animal speaks\")\n\nclass Dog(Animal):\n    def bark(self):\n        print(\"Dog barks\")\n\ndog = Dog()\ndog.speak()  # Output: Animal speaks\ndog.bark()   # Output: Dog barks\n\n    # 2. Multiple Inheritance\nclass Animal:\n    def speak(self):\n        print(\"Animal speaks\")\n\nclass Bird:\n    def fly(self):\n        print(\"Bird flies\")\n\nclass Bat(Animal, Bird):\n    pass\n\nbat = Bat()\nbat.speak()\nbat.fly()\n\n    # 3. Multilevel Inheritance\nclass Animal:\n    def speak(self):\n        print(\"Animal speaks\")\n\nclass Dog(Animal):\n    def bark(self):\n        print(\"Dog barks\")\n\nclass Puppy(Dog):\n    def weep(self):\n        print(\"Puppy weeps\")\n\npuppy = Puppy()\npuppy.speak()\npuppy.bark()\npuppy.weep()\n\n    # 4. Hierarchical Inheritance\nclass Animal:\n    def speak(self):\n        print(\"Animal speaks\")\n\nclass Dog(Animal):\n    def bark(self):\n        print(\"Dog barks\")\n\nclass Cat(Animal):\n    def meow(self):\n        print(\"Cat meows\")\n\ndog = Dog()\ncat = Cat()\n\ndog.speak()  \ndog.bark()\n\ncat.speak()\ncat.meow()\n\n# 5. Hybrid Inheritance\nclass Animal:\n    def speak(self):\n        print(\"Animal speaks\")\n\nclass Bird:\n    def fly(self):\n        print(\"Bird flies\")\n\nclass Bat(Animal, Bird):\n    def sleep(self):\n        print(\"Bat sleeps\")\n\nclass FruitBat(Bat):\n    def eat(self):\n        print(\"FruitBat eats\")\n\nfruit_bat = FruitBat()\nfruit_bat.speak()\nfruit_bat.fly()\nfruit_bat.sleep()\nfruit_bat.eat()\n\n# Method Overriding in Inheritance\nclass Animal:\n    def speak(self):\n        print(\"Animal speaks\")\n\nclass Dog(Animal):\n    def speak(self):\n        print(\"Dog barks\")\n\ndog = Dog()\ndog.speak()\n\n# Using super() to Access Parent Methods\nclass Animal:\n    def speak(self):\n        print(\"Animal speaks\")\n\nclass Dog(Animal):\n    def speak(self):\n        super().speak()\n        print(\"Dog barks\")\n\ndog = Dog()\ndog.speak()\n\n# Access Modifiers in Inheritance\nclass Animal:\n    def __init__(self):\n        self.name = \"Animal\"\n        self._type = \"Mammal\"\n        self.__species = \"Canine\"\n\nclass Dog(Animal):\n    def show_info(self):\n        print(self.name)\n        print(self._type)\n        # print(self.__species)\n\ndog = Dog()\ndog.show_info()\n\n# Key Takeaways\n    #  Inheritance allows you to reuse code.\n    # Child classes can extend or modify parent class behavior.\n    # super() lets you call parent methods.\n    # Method overriding allows a child class to redefine a parent method.\n    # Python supports multiple inheritance.",
      "metadata": {
        "trusted": true
      },
      "outputs": [],
      "execution_count": null
    },
    {
      "id": "a7a9b92a-f262-405b-ab46-6b787c89858a",
      "cell_type": "code",
      "source": "# 7. What is polymorphism in OOP?\n    # Polymorphism in Object-Oriented Programming (OOP) refers to the ability of different objects to respond to the same method call in different ways. In Python, polymorphism allows you to define a common interface for different types of objects, enabling flexibility and code reusability.\n\n# Types of Polymorphism in Python\n    # 1. Compile-time Polymorphism (Method Overloading)\n        # Python does not support true method overloading like some other languages (e.g., Java), but you can simulate it using default arguments or *args.\n\n    # 2. Runtime Polymorphism (Method Overriding)\n        # Python supports method overriding, where a subclass can define a method that overrides a method in the parent class.\n\n# Example of Polymorphism using Method Overriding\nclass Animal:\n    def speak(self):\n        print(\"Animal speaks\")\n\nclass Dog(Animal):\n    def speak(self):\n        print(\"Dog barks\")\n\nclass Cat(Animal):\n    def speak(self):\n        print(\"Cat meows\")\n\nanimals = [Dog(), Cat()]\nfor animal in animals:\n    animal.speak()\n\n# Example of Polymorphism using Built-in Functions\n    # Python’s built-in functions like len() show polymorphism because they can work with different types of objects:\n\nprint(len(\"Python\"))\nprint(len([1, 2, 3]))\nprint(len({\"a\": 1, \"b\": 2}))\n\n# Example of Operator Overloading (Polymorphism)\n    # Python allows you to redefine the behavior of operators using dunder methods like __add__, __mul__, etc.\n\nclass Vector:\n    def __init__(self, x, y):\n        self.x = x\n        self.y = y\n    \n    def __add__(self, other):\n        return Vector(self.x + other.x, self.y + other.y)\n    \n    def __str__(self):\n        return f\"({self.x}, {self.y})\"\n\nv1 = Vector(1, 2)\nv2 = Vector(3, 4)\n\nresult = v1 + v2\nprint(result)\n\n# Key Points\n    # 1. Polymorphism allows different classes to be treated as instances of the same class through a common interface.\n    # 2. Python supports polymorphism through method overriding, operator overloading, and built-in functions.\n    # 3. Promotes code reusability and flexibility.",
      "metadata": {
        "trusted": true
      },
      "outputs": [],
      "execution_count": null
    },
    {
      "id": "f5e39d79-a28d-42e3-8abf-f730dd4995fd",
      "cell_type": "code",
      "source": "# 8. How is encapsulation achieved in Python?\n    # Encapsulation in Python is the process of bundling data (attributes) and methods (functions) that operate on the data into a single unit (a class) and restricting direct access to some of the object's components to prevent accidental modification.\n\n# How Encapsulation is Achieved in Python\n    # 1. Using Private and Protected Attributes\n        # a. By defining class attributes as private (__attribute) or protected (_attribute), you can restrict their access from outside the class.\n    # 2. Using Getter and Setter Methods\n        # a. Use getter methods to access private attributes.\n        # b. Use setter methods to modify private attributes safely with validation.\n\n# Example\n\nclass Employee:\n    def __init__(self, name, salary):\n        self.name = name\n        self.__salary = salary\n\n    def get_salary(self):\n        return self.__salary\n    \n    def set_salary(self, amount):\n        if amount > 0:\n            self.__salary = amount\n        else:\n            print(\"Invalid salary\")\n\nemp = Employee(\"Ajay\", 5000)\n\nprint(emp.name)\n\nprint(emp.get_salary()) \n\nemp.set_salary(6000)\nprint(emp.get_salary())",
      "metadata": {
        "trusted": true
      },
      "outputs": [],
      "execution_count": null
    },
    {
      "id": "cb110f89-91d3-4330-b0a1-392f8ade673c",
      "cell_type": "code",
      "source": "# 9. What is a constructior in Python?\n    # A constructor in Python is a special method used to initialize objects when a class is created. In Python, the constructor method is defined using the __init__ function.\n\n# Syntax\nclass ClassName:\n    def __init__(self, parameters):\n\n# a. __init__ is a dunder (double underscore) method that is automatically called when an object is created.\n# b. It sets up the initial state of an object by assigning values to the object’s attributes or performing other setup tasks.\n\n# Example\n\nclass Employee:\n    def __init__(self, name, salary):\n        self.name = name\n        self.salary = salary\n    \n    def display(self):\n        print(f\"Name: {self.name}, Salary: {self.salary}\")\n\nemp = Employee(\"John\", 5000)\nemp.display()\n\n# How It Works\n    # 1. When emp = Employee(\"John\", 5000) is executed:\n        # a. The __init__ method is automatically called.\n        # b. name and salary are assigned to the object using self.name and self.salary.\n    # 2. The display() method accesses the object’s attributes and prints them.\n\n# Types of Constructors in Python\n\n# 1. Default Constructor\n    # A constructor without any parameters except self.\nclass Example:\n    def __init__(self):\n        print(\"Default constructor called\")\n\nobj = Example()\n\n# 2. Parameterized Constructor\n    # A constructor that takes arguments to initialize the object’s attributes.\nclass Example:\n    def __init__(self, value):\n        self.value = value\n        print(f\"Value = {self.value}\")\n\nobj = Example(10)\n\n# 3. Constructor with Default Arguments\n    # A constructor with default values for parameters.\nclass Example:\n    def __init__(self, value=5):\n        self.value = value\n        print(f\"Value = {self.value}\")\n\nobj1 = Example()\n\nobj2 = Example(10)\n\n# Key Points\n    #  The __init__ method is called automatically when an object is created.\n    # It is used to initialize object attributes.\n    # You can define both default and parameterized constructors.\n    # If no constructor is defined, Python provides a default constructor automatically.",
      "metadata": {
        "trusted": true
      },
      "outputs": [],
      "execution_count": null
    },
    {
      "id": "59922711-88ec-43df-9796-4c74198c1ec0",
      "cell_type": "code",
      "source": "# 10. What are class and static methods in Python?\n    # In Python, class methods and static methods are used to define methods that are bound to the class rather than an instance of the class.\n\n# Class Methods\n    # A class method is bound to the class, not the instance. It takes the class itself (cls) as the first parameter and can modify the class state or access class-level attributes.\n\n# How to Define a Class Method\n    # Use the @classmethod decorator.\n    # The first parameter should be cls, which refers to the class itself.\n\n# Example of a Class Method\nclass Employee:\n    company = \"ABC Corp\"\n    \n    def __init__(self, name):\n        self.name = name\n    \n    @classmethod\n    def change_company(cls, new_company):\n        cls.company = new_company\n    \n    def display(self):\n        print(f\"Name: {self.name}, Company: {self.company}\")\n\nemp1 = Employee(\"John\")\nemp1.display()\n\nEmployee.change_company(\"XYZ Ltd\")\n\nemp2 = Employee(\"Jane\")\nemp2.display()\n\n# How It Works\n    # The change_company() method is defined using @classmethod.\n    # cls.company = new_company changes the class attribute value.\n    # The updated value reflects across all objects because it's a class-level attribute.\n\n# Static Methods\n    # A static method is not bound to an instance or class. It doesn’t take self or cls as the first parameter and cannot modify the class state.\n        # Use a static method when the behavior is related to the class but doesn’t need to modify class or instance state.\n\n# How to Define a Static Method\n    # 1. Use the @staticmethod decorator.\n    # 2. No self or cls parameter is needed.\n\n# Example \nclass MathOperations:\n    @staticmethod\n    def add(x, y):\n        return x + y\n    \n    @staticmethod\n    def multiply(x, y):\n        return x * y\n\nprint(MathOperations.add(5, 3))\nprint(MathOperations.multiply(5, 3))\n\n# How It Works\n    # The add() and multiply() methods are defined using @staticmethod.\n    # They are independent of instance and class state.\n    # They can be called using the class name directly.",
      "metadata": {
        "trusted": true
      },
      "outputs": [],
      "execution_count": null
    },
    {
      "id": "1f7bc8ee-bf41-422b-962e-8bd221717905",
      "cell_type": "code",
      "source": "# 11. What is method overloading in Python?\n    # Method overloading in Python refers to defining multiple methods with the same name but different parameters within a class. However, Python does not support true method overloading like other languages (e.g., Java, C++) because Python functions can accept a variable number of arguments using *args and **kwargs.\n\n# How Method Overloading Works in Python\n    # 1. Python allows defining only one method with a given name in a class.\n    # 2. If multiple methods with the same name are defined, the latest definition will override the previous ones.\n    # 3. However, you can simulate method overloading using:\n        # a. Default arguments\n        # b. *args (non-keyword arguments)\n        # c. **kwargs (keyword arguments)\n\n# Example of Simulating Method Overloading with *args\nclass MathOperations:\n    def add(self, *args):\n        return sum(args)\n\nmath = MathOperations()\n\nprint(math.add(1, 2))\nprint(math.add(1, 2, 3))\nprint(math.add(1, 2, 3, 4, 5))\n\n# Example of Simulating Method Overloading with if-else\nclass Display:\n    def show(self, a=None, b=None):\n        if a is not None and b is not None:\n            print(f\"a = {a}, b = {b}\")\n        elif a is not None:\n            print(f\"a = {a}\")\n        else:\n            print(\"No arguments passed\")\n\nd = Display()\nd.show()\nd.show(10)\nd.show(10, 20)\n\n# Example of Simulating Method Overloading with @singledispatch\nfrom functools import singledispatch\n\n@singledispatch\ndef display(value):\n    print(f\"General value: {value}\")\n\n@display.register(int)\ndef _(value):\n    print(f\"Integer value: {value}\")\n\n@display.register(str)\ndef _(value):\n    print(f\"String value: {value}\")\n\n@display.register(list)\ndef _(value):\n    print(f\"List value: {value}\")\n\ndisplay(10)\ndisplay(\"Hello\")\ndisplay([1, 2, 3])\ndisplay(5.5)\n\n# Key Points\n    # 1.  Python does not support true method overloading — only the last defined method with the same name is retained.\n    # 2. You can simulate overloading using:\n        # a. *args and **kwargs\n        # b. Default arguments\n        # c. Type-based dispatching with @singledispatch",
      "metadata": {
        "trusted": true
      },
      "outputs": [],
      "execution_count": null
    },
    {
      "id": "06f7dc0d-6c92-41a4-a43e-a761ba703ade",
      "cell_type": "code",
      "source": "# 12. What is method overriding in OOP?\n    # Method overriding in Object-Oriented Programming (OOP) occurs when a subclass provides a specific implementation of a method that is already defined in its superclass. The overridden method in the subclass should have:\n        # 1. The same name\n        # 2. The same parameters\n        # 3. The same return type (or a subtype)\n\n# How It Works:\n    # 1. A subclass inherits a method from a parent class.\n    # 2. The subclass provides its own version of the method by redefining it.\n    # 3. When the method is called on an instance of the subclass, the overridden method in the subclass is executed instead of the one in the parent class.\n\n# Example\nclass Animal:\n    def speak(self):\n        print(\"Animal speaks\")\n\nclass Dog(Animal):\n    def speak(self):  \n        print(\"Dog barks\")\n\nanimal = Animal()\ndog = Dog()\n\nanimal.speak()\ndog.speak()\n\n# Explanation:\n    # 1. The Dog class overrides the speak method from the Animal class.\n    # 2. When speak() is called on a Dog object, the overridden version in Dog is executed.\n    # 3. This allows polymorphism — the ability to define a single interface (method name) and have multiple implementations.",
      "metadata": {
        "trusted": true
      },
      "outputs": [],
      "execution_count": null
    },
    {
      "id": "f4f8cb89-7165-4327-9e80-a0a770a246b2",
      "cell_type": "code",
      "source": "# 13. What is  a property decorator in Python?\n    # A property decorator in Python (@property) is used to define a getter method that allows you to access a method like an attribute. It allows you to implement controlled access to an attribute by defining getter, setter, and deleter methods.\n\n# Syntax:\n    # @property → Used to define a getter method.\n    # @<property_name>.setter → Used to define a setter method.\n    # @<property_name>.deleter → Used to define a deleter method.\n\n# Example\nclass Person:\n    def __init__(self, name):\n        self._name = name\n    \n    @property\n    def name(self):\n        return self._name\n    \n    @name.setter\n    def name(self, value):\n        if isinstance(value, str):\n            self._name = value\n        else:\n            raise ValueError(\"Name must be a string\")\n    \n    @name.deleter\n    def name(self):\n        print(\"Deleting name...\")\n        self._name = None\n\np = Person(\"Ashish\")\n\nprint(p.name)\n\np.name = \"Doe\"\nprint(p.name)\n\ndel p.name\nprint(p.name)\n\n# Explanation\n    # @property makes the name() method behave like an attribute.\n    # @name.setter allows you to modify the name attribute with validation.\n    # @name.deleter allows you to delete the name attribute and clean up resources.\n\n# Advantages\n    # Provides controlled access to attributes.\n    # Allows adding custom logic while getting or setting a value.\n    # Useful for data validation and encapsulation.",
      "metadata": {
        "trusted": true
      },
      "outputs": [],
      "execution_count": null
    },
    {
      "id": "3259b1cf-6494-4dae-ad30-2b2b60f13d92",
      "cell_type": "code",
      "source": "# 14. Why is polymorphism important in OOP?\n    # Polymorphism is important in Object-Oriented Programming (OOP) because it allows objects of different classes to be treated as objects of a common superclass. This enables flexibility and maintainability in code by allowing a single interface to represent different underlying forms (data types).\n\n#  Key Benefits of Polymorphism:\n    # 1. Code Reusability\n        #A single function or method can work with different types of objects, reducing code duplication.\n\n    # 2. Flexibility and Extensibility\n        # New classes can be introduced without changing existing code, making it easier to extend functionality.\n\n    # 3. Improved Maintainability\n        # Code is cleaner and more modular since the same interface handles different objects.\n\n    # 4. Dynamic Method Binding (Runtime Polymorphism)\n        # The method that gets called is determined at runtime based on the object type, enabling dynamic behavior.\n\n    # 5. Promotes Abstraction\n        # Abstract methods and interfaces allow you to define a consistent interface while hiding the implementation details.\n\n# Example\nclass Animal:\n    def speak(self):\n        raise NotImplementedError(\"Subclasses must implement this method\")\n\nclass Dog(Animal):\n    def speak(self):\n        return \"Woof!\"\n\nclass Cat(Animal):\n    def speak(self):\n        return \"Meow!\"\n\nanimals = [Dog(), Cat()]\n\nfor animal in animals:\n    print(animal.speak())  \n\n# How Polymorphism Works Here:\n    # 1. The speak() method is defined in the Animal superclass as an abstract method.\n    # 2. The Dog and Cat subclasses override speak() with their own implementation.\n    # 3. When speak() is called on each object, Python determines at runtime which version of speak() to execute.",
      "metadata": {
        "trusted": true
      },
      "outputs": [],
      "execution_count": null
    },
    {
      "id": "4da5a95e-287a-4f27-9492-93c83fd00cd5",
      "cell_type": "code",
      "source": "# 15. What is an abstract class in Python?\n    # An abstract class in Python is a class that cannot be instantiated directly and is used to define a common interface for a group of related classes. It serves as a blueprint for other classes and often includes abstract methods that must be implemented by any subclass.\n\n# Key Characteristics:\n    # 1. Defined using the ABC (Abstract Base Class) module (from abc import ABC, abstractmethod).\n    # 2. Can have both abstract methods and concrete methods (methods with implementations).\n    # 3. A class becomes abstract when it inherits from ABC and defines at least one @abstractmethod.\n    # 3. Cannot create an object of an abstract class directly — it must be subclassed.\n\n# Example:\nfrom abc import ABC, abstractmethod\n\nclass Animal(ABC):\n    \n    @abstractmethod\n    def speak(self):\n        pass\n    \n    def eat(self):\n        print(\"This animal is eating\")\n\nclass Dog(Animal):\n    def speak(self):\n        print(\"Dog barks\")\n\nclass Cat(Animal):\n    def speak(self):\n        print(\"Cat meows\")\n\n\ndog = Dog()\ncat = Cat()\n\ndog.speak()\ncat.speak()\n\ndog.eat()\n\n# How It Works:\n    # 1. Animal is an abstract class since it inherits from ABC.\n    # 2. speak() is an abstract method that has no implementation in the base class.\n    # 3. Dog and Cat inherit from Animal and must implement the speak() method.\n    # 4. The eat() method is a concrete method — subclasses can inherit it without redefining it.\n    # 5. If a subclass fails to implement the abstract method, it will raise a TypeError.\n\n# Why Use Abstract Classes:\n    # Enforces a consistent interface for all subclasses.\n    # Supports polymorphism — objects of different subclasses can be used interchangeably.\n    # Encourages code reusability and structured design.",
      "metadata": {
        "trusted": true
      },
      "outputs": [],
      "execution_count": null
    },
    {
      "id": "e727a101-6114-4e56-8a4a-5a56b2fa15ea",
      "cell_type": "code",
      "source": "# 16. What are the advantages of OOP?\n    # Object-Oriented Programming (OOP) provides several advantages that make code more organized, reusable, and easier to maintain. It is based on the principles of encapsulation, abstraction, inheritance, and polymorphism.\n\n#  Advantages of OOP:\n    # 1. Reusability through Inheritance\n        # a. Inheritance allows you to create a new class based on an existing class.\n        # b. It enables code reuse and reduces redundancy.\n\n# Example:\nclass Animal:\n    def speak(self):\n        print(\"Animal speaks\")\n\nclass Dog(Animal):\n    def speak(self):\n        print(\"Dog barks\")\n\ndog = Dog()\ndog.speak()\n\n    # 2. Data Hiding and Security through Encapsulation\n        # a. Encapsulation allows you to hide the internal state of an object and restrict direct access.\n        # b. Data can be accessed or modified only through public methods.\n\n# Example:\nclass Person:\n    def __init__(self, name):\n        self.__name = name\n    \n    def get_name(self):\n        return self.__name\n\np = Person(\"John\")\nprint(p.get_name())\n\n    # 3. Flexibility and Scalability through Polymorphism\n        # a. Polymorphism allows the same method to be used for different data types or objects.\n        # b. It allows writing flexible and reusable code.\n\n# Example:\nclass Animal:\n    def speak(self):\n        raise NotImplementedError\n\nclass Dog(Animal):\n    def speak(self):\n        return \"Bark\"\n\nclass Cat(Animal):\n    def speak(self):\n        return \"Meow\"\n\ndef make_sound(animal):\n    print(animal.speak())\n\nmake_sound(Dog())\nmake_sound(Cat())\n\n    # 4. Better Organization and Code Management\n        # a. OOP models real-world entities, making it easier to manage and understand complex programs.\n        # b. Code is divided into objects and classes, improving organization.\n\n    # 5. Improved Maintainability and Extensibility\n        # a. New features or behaviors can be added by extending existing classes rather than rewriting code.\n        # b. Fixes and improvements are easier to implement since changes are localized.\n\n    # 6. Modularity through Abstraction\n        # a. Abstraction allows you to define a common interface while hiding implementation details.\n        # b. Reduces complexity and promotes cleaner code.\n\n# Example:\nfrom abc import ABC, abstractmethod\n\nclass Animal(ABC):\n    @abstractmethod\n    def speak(self):\n        pass\n\n#  Why OOP Matters:\n    # Promotes code reuse\n    # Enhances modularity and scalability\n    # Facilitates debugging and testing\n    # Makes code more adaptable to future changes",
      "metadata": {
        "trusted": true
      },
      "outputs": [],
      "execution_count": null
    },
    {
      "id": "356caf61-c6f1-4c4b-9062-74cfbd6362c3",
      "cell_type": "code",
      "source": "# 17. What is the difference between a class variable and an instance variable?\n    # In Python, class variables and instance variables are two types of attributes that store data, but they differ in scope, accessibility, and behavior.\n\n# Class Variable\n    # Defined at the class level and shared by all instances of the class.\n    # Changing a class variable affects all instances of the class.\n    # Accessed using ClassName.variable or self.variable.\n\n# Instance Variable\n    # Defined within a constructor (__init__) or instance method using self.\n    # Unique to each object — changing an instance variable only affects that specific object.\n    # Accessed using self.variable.\n\n# Example:\nclass Car:\n    wheels = 4 \n    \n    def __init__(self, color):\n        self.color = color\n\ncar1 = Car(\"Red\")\ncar2 = Car(\"Blue\")\n\nprint(car1.wheels)\nprint(car2.wheels)\n\nprint(car1.color)\nprint(car2.color)\n\nCar.wheels = 6\nprint(car1.wheels)\nprint(car2.wheels)\n\ncar1.color = \"Green\"\nprint(car1.color)\nprint(car2.color)",
      "metadata": {
        "trusted": true
      },
      "outputs": [],
      "execution_count": null
    },
    {
      "id": "dea166b7-f43b-4daf-b48e-5fdf0be9caa0",
      "cell_type": "code",
      "source": "# 18. What is multiple inheritance in Python?\n    # Multiple inheritance in Python allows a class to inherit from more than one parent class. This enables a child class to inherit attributes and methods from multiple base classes, combining their functionality.\n\n# How It Works:\n    # 1. A child class can inherit from multiple parent classes by listing them inside parentheses.\n    # 2. If two parent classes have methods with the same name, Python follows the Method Resolution Order (MRO) to determine which method to execute.\n    # 3. The super() function can be used to avoid conflicts and ensure proper order in calling parent class methods.\n\n# Example:\nclass A:\n    def show(self):\n        print(\"Class A\")\n\nclass B:\n    def display(self):\n        print(\"Class B\")\n\nclass C(A, B):\n    def output(self):\n        print(\"Class C\")\n\nobj = C()\n\nobj.show()\nobj.display()\nobj.output()\n\n# Method Resolution Order (MRO):\n    # Python follows the C3 linearization (depth-first, left-to-right) to determine the order of method execution.\n    # The mro() function shows the order in which Python looks for a method.\n\n#  Example with super() to Handle Conflicts:\nclass A:\n    def show(self):\n        print(\"Class A\")\n\nclass B:\n    def show(self):\n        print(\"Class B\")\n\nclass C(A, B):\n    def show(self):\n        super().show()\n\nobj = C()\nobj.show()\n\n# Advantages:\n    # 1. Combines functionality from multiple classes.\n    # 2. Promotes code reusability and modularity.\n    # 3. Allows more complex relationships between classes.",
      "metadata": {
        "trusted": true
      },
      "outputs": [],
      "execution_count": null
    },
    {
      "id": "dee6b4f7-da24-4485-95ba-a6c93525c840",
      "cell_type": "code",
      "source": "# 19. Explain the purpose of \"__str__' and' __repr__\" methods in Pyton?\n    # In Python, the __str__ and __repr__ methods are special (dunder) methods that define how an object is represented as a string. They control how objects are displayed and logged when printed or converted to a string.\n\n# __str__() → User-friendly string representation\n    # Called when you use str() or print() on an object.\n    # Should return a readable and informative string meant for the end-user.\n    # Purpose: To provide a human-readable representation of the object.\n\n# __repr__() → Developer-friendly string representation\n    # Called when you use repr() or inspect an object directly (e.g., in the console).\n    # Should return a string that resembles valid Python code used to recreate the object.\n    # Purpose: To provide an unambiguous and detailed representation for debugging.\n\n# Example:\nclass Person:\n    def __init__(self, name, age):\n        self.name = name\n        self.age = age\n    \n    def __str__(self):\n        return f\"{self.name} is {self.age} years old\"\n    \n    def __repr__(self):\n        return f\"Person('{self.name}', {self.age})\"\n\np = Person(\"Ashish\", 30)\n\nprint(str(p))\nprint(p)\n\nprint(repr(p))\n\n# How It Works:\n    # 1. __str__() is called by print(p) and str(p) to return a readable format.\n    # 2. __repr__() is called by repr(p) and also by the interactive console.\n    # 3. If __str__() is not defined, Python will fall back to __repr__() when using print().\n    # 4. If neither __str__ nor __repr__ is defined, the default is the object’s memory address (inherited from object).\n\n# Example Without __str__ and __repr__:\nclass Car:\n    def __init__(self, brand):\n        self.brand = brand\n\ncar = Car(\"Toyota\")\nprint(car)",
      "metadata": {
        "trusted": true
      },
      "outputs": [],
      "execution_count": null
    },
    {
      "id": "dfea03b8-cd68-470d-9c08-11190d00002b",
      "cell_type": "code",
      "source": "# 20. What is the significance of the 'super()' function in Python?\n    # The super() function in Python is used to call a method from a parent class within a subclass. It allows you to access and extend the functionality of an inherited method without explicitly referring to the parent class.\n\n# Purpose of super():\n    # 1. Avoids the need to hard-code parent class names → Makes code more maintainable.\n    # 2. Supports multiple inheritance by ensuring that the correct method is called based on the Method Resolution Order (MRO).\n    # 3. Allows a subclass to extend or modify the behavior of a parent class method rather than completely overriding it.\n\n# Example (Single Inheritance):\nclass Parent:\n    def display(self):\n        print(\"This is the parent class\")\n\nclass Child(Parent):\n    def display(self):\n        super().display()\n        print(\"This is the child class\")\n\nobj = Child()\nobj.display()\n\n#  Example (Multiple Inheritance):\nclass A:\n    def show(self):\n        print(\"Class A\")\n\nclass B(A):\n    def show(self):\n        super().show()\n        print(\"Class B\")\n\nclass C(B):\n    def show(self):\n        super().show()\n        print(\"Class C\")\n\nobj = C()\nobj.show()\n\n# Example with __init__() Constructor:\nclass Parent:\n    def __init__(self, name):\n        self.name = name\n        print(f\"Parent initialized with name: {name}\")\n\nclass Child(Parent):\n    def __init__(self, name, age):\n        super().__init__(name)\n        self.age = age\n        print(f\"Child initialized with age: {age}\")\n\nobj = Child(\"Ashish\", 25)\n\n# Why super() Is Important:\n    # Avoids direct referencing of the parent class → More flexible and maintainable code.\n    # Ensures proper method resolution in multiple inheritance cases.\n    # Supports dynamic inheritance — helpful when working with mixins and abstract classes.",
      "metadata": {
        "trusted": true
      },
      "outputs": [],
      "execution_count": null
    },
    {
      "id": "4fdf7a12-947d-4080-b985-0bc3a97361ef",
      "cell_type": "code",
      "source": "# 21. What is the significance of the __del__ method in Python?\n    # The __del__ method in Python is a special method (dunder method) that is called when an object is destroyed or garbage collected. It is known as the destructor method and is used to define any cleanup actions that should be performed when an object is deleted.\n\n# Purpose of __del__:\n    # 1. Resource Cleanup → Close files, release memory, or clean up database connections.\n    # 2. Logging → Log messages when an object is destroyed.\n    # 3. Avoid Memory Leaks → Clean up objects that hold references to large data structures or external resources.\n\n# Example:\nclass Example:\n    def __init__(self, value):\n        self.value = value\n        print(f\"Object created with value = {self.value}\")\n\n    def __del__(self):\n        print(f\"Object with value = {self.value} is being destroyed\")\n\nobj = Example(10)\n\ndel obj\n\n# Example (Resource Cleanup):\nclass FileHandler:\n    def __init__(self, filename):\n        self.file = open(filename, 'w')\n        print(f\"File '{filename}' opened\")\n\n    def write_data(self, data):\n        self.file.write(data)\n\n    def __del__(self):\n        self.file.close()\n        print(f\"File closed\")\n\nhandler = FileHandler('test.txt')\nhandler.write_data('Hello, world!')\n\ndel handler\n\n# When __del__() Is Called:\n    # 1. When you use del to delete an object.\n    # 2. When the reference count of an object drops to zero (automatic garbage collection).\n\n# Limitations of __del__:\n        # 1. Circular References → If objects refer to each other, __del__() might not be called.\n        # 2. Exceptions in __del__ → If an exception occurs inside __del__, Python ignores it and may issue a warning.\n        # 3. Unpredictable Timing → The exact time when garbage collection happens is not guaranteed.\n\n# Example of Circular Reference Issue:\nclass A:\n    def __init__(self):\n        self.b = B(self)\n    def __del__(self):\n        print(\"A deleted\")\n\nclass B:\n    def __init__(self, a):\n        self.a = a\n    def __del__(self):\n        print(\"B deleted\")\n\na = A()\ndel a ",
      "metadata": {
        "trusted": true
      },
      "outputs": [],
      "execution_count": null
    },
    {
      "id": "88128582-1720-466d-9c18-f9241efd9015",
      "cell_type": "code",
      "source": "# 22. What is the difference between @staticmethod and @classmethod in Python?\n    # In Python, both @staticmethod and @classmethod are decorators used to define methods that are not tied to instance-specific data. However, they differ in how they access class-level data and how they are called.\n\n# @staticmethod → No access to cls or self\n    # Belongs to the class but does not operate on the class or instance.\n    # Can be called using the class name or an instance.\n    # Works like a regular function but is grouped within the class namespace.\n\n# @classmethod → Access to cls (class reference)\n    # Takes cls as the first parameter (instead of self).\n    # Can access and modify class-level data but not instance-specific data.\n    # Can be called using the class name or an instance.\n\n# Example of @staticmethod:\nclass Math:\n    @staticmethod\n    def add(x, y):\n        return x + y\n\nprint(Math.add(5, 3))\n\nobj = Math()\nprint(obj.add(5, 3))\n\n# Example of @classmethod:\nclass Animal:\n    species = \"Mammal\"\n    \n    @classmethod\n    def set_species(cls, new_species):\n        cls.species = new_species\n\nAnimal.set_species(\"Bird\")\nprint(Animal.species)  # Output: Bird\n\n\nobj = Animal()\nobj.set_species(\"Reptile\")\nprint(Animal.species)\n\n#  Example Comparing Both:\nclass Example:\n    value = 10\n    \n    @staticmethod\n    def static_method():\n        print(\"Static method called\")\n\n    @classmethod\n    def class_method(cls):\n        print(f\"Class method called, value = {cls.value}\")\n\nExample.static_method()\n\nExample.class_method()\n\n# When to Use:\n    # Use @staticmethod when the method doesn’t rely on instance or class data — acts like a utility function.\n    # Use @classmethod when you need to modify class state or create an instance using class data.",
      "metadata": {
        "trusted": true
      },
      "outputs": [],
      "execution_count": null
    },
    {
      "id": "ea6e8a72-eeec-4a14-b5c6-f473d8009601",
      "cell_type": "code",
      "source": "# 23. How does polymorsphism work in Python with inheritance?\n    # Polymorphism in Python with inheritance allows objects of different classes to be treated as objects of a common superclass. It enables a single interface (method) to work with objects of different types, promoting code flexibility and extensibility.\n\n# How Polymorphism Works with Inheritance:\n    # 1. A base class defines a method.\n    # 2. Subclasses inherit from the base class and override the method with their own implementation.\n    # 3. The same method name can be used across different classes.\n    # 4. When the method is called on an object, Python determines which version to execute based on the object’s actual class (i.e., dynamic binding).\n\n#  Example 1: Polymorphism Through Method Overriding\nclass Animal:\n    def sound(self):\n        raise NotImplementedError(\"Subclass must implement abstract method\")\n\nclass Dog(Animal):\n    def sound(self):\n        return \"Bark\"\n\nclass Cat(Animal):\n    def sound(self):\n        return \"Meow\"\n\ndef make_sound(animal):\n    print(animal.sound())\n\ndog = Dog()\ncat = Cat()\n\nmake_sound(dog)\nmake_sound(cat)\n\n\n# Example 2: Polymorphism Through Inheritance and super()\nclass Shape:\n    def area(self):\n        raise NotImplementedError\n\nclass Square(Shape):\n    def __init__(self, side):\n        self.side = side\n    \n    def area(self):\n        return self.side * self.side\n\nclass Circle(Shape):\n    def __init__(self, radius):\n        self.radius = radius\n    \n    def area(self):\n        from math import pi\n        return pi * self.radius ** 2\n\ndef print_area(shape):\n    print(f\"Area: {shape.area()}\")\n\nsquare = Square(4)\ncircle = Circle(3)\n\nprint_area(square)\nprint_area(circle)\n\n#  Example 3: Polymorphism Using the super() Function\nclass Animal:\n    def speak(self):\n        print(\"Animal speaks\")\n\nclass Dog(Animal):\n    def speak(self):\n        super().speak()\n        print(\"Dog barks\")\n\ndog = Dog()\ndog.speak()\n\n# Why Polymorphism Matters:\n    # Promotes code reuse — Same interface for different objects.\n    # Improves scalability — New types can be introduced without modifying existing code.\n    # Supports dynamic behavior — The correct method is resolved at runtime.",
      "metadata": {
        "trusted": true
      },
      "outputs": [],
      "execution_count": null
    },
    {
      "id": "5f7ef1eb-79f5-4981-999c-abf3d6f460e3",
      "cell_type": "code",
      "source": "# 24. What is method chaining in Python OOP?\n    # Method chaining in Python OOP is a technique where multiple methods are called on the same object in a single statement by returning self (the object itself) from each method. This allows for a cleaner and more readable coding style.\n\n# How Method Chaining Works:\n    # 1. Each method returns self (the object itself).\n    # 2. Since the method returns the object, you can immediately call another method on the same object.\n    # 3. Methods are executed sequentially from left to right.\n\n# Example:\nclass Car:\n    def __init__(self, brand):\n        self.brand = brand\n    \n    def set_color(self, color):\n        self.color = color\n        return self\n    \n    def set_model(self, model):\n        self.model = model\n        return self\n    \n    def display(self):\n        print(f\"Car: {self.brand}, Model: {self.model}, Color: {self.color}\")\n        return self\n\ncar = Car(\"Toyota\").set_color(\"Red\").set_model(\"Camry\").display()\n\n# Why Use Method Chaining:\n    # Cleaner Code → Reduces the need for temporary variables.\n    # Fluent Interface → Code reads naturally like a sentence.\n    # Reduces Boilerplate → Simplifies repetitive calls to the same object.\n\n# Example with Custom Return Values (No Method Chaining):\nclass Car:\n    def __init__(self, brand):\n        self.brand = brand\n    \n    def set_color(self, color):\n        self.color = color\n        \n    def set_model(self, model):\n        self.model = model\n        \n    def display(self):\n        print(f\"Car: {self.brand}, Model: {self.model}, Color: {self.color}\")\n\ncar = Car(\"Toyota\")\ncar.set_color(\"Red\")\ncar.set_model(\"Camry\")\ncar.display()\n",
      "metadata": {
        "trusted": true
      },
      "outputs": [],
      "execution_count": null
    },
    {
      "id": "017ae9a5-f2e1-45ae-a5cb-7d64190a5560",
      "cell_type": "code",
      "source": "# 25. What is the purpose of the __call__ method in Python?\n    # The __call__ method in Python allows an instance of a class to be called like a function. When a class defines the __call__ method, you can use the class object itself as if it were a function.\n\n# Purpose of __call__:\n    # 1. Enables objects to behave like functions (callable objects).\n    # 2. Allows defining objects with custom behavior when \"called\" using () syntax.\n    # 3. Useful in creating function wrappers, stateful functions, and implementing decorators.\n\n# Example 1: Basic __call__ Method\nclass Example:\n    def __call__(self, x):\n        print(f\"Called with value: {x}\")\n\nobj = Example()\n\nobj(10)\n\n# Example 2: Storing State with __call__\nclass Counter:\n    def __init__(self):\n        self.count = 0\n    \n    def __call__(self):\n        self.count += 1\n        print(f\"Count: {self.count}\")\n\ncounter = Counter()\n\ncounter()\ncounter()\ncounter()\n\n# Example 3: Using __call__ to Create a Function Wrapper\nclass Multiplier:\n    def __init__(self, factor):\n        self.factor = factor\n    \n    def __call__(self, x):\n        return x * self.factor\n\ntimes_three = Multiplier(3)\n\nprint(times_three(10))\nprint(times_three(5))\n\n# Example 4: Implementing a Simple Decorator Using __call__\nclass Logger:\n    def __init__(self, func):\n        self.func = func\n    \n    def __call__(self, *args, **kwargs):\n        print(f\"Calling {self.func.__name__} with arguments: {args}, {kwargs}\")\n        result = self.func(*args, **kwargs)\n        print(f\"{self.func.__name__} returned: {result}\")\n        return result\n\n@Logger\ndef add(x, y):\n    return x + y\n\nadd(3, 4)\n\n\n#  When to Use __call__:\n    # 1. When you need to create stateful function objects.\n    # 2. When defining function-like behavior for class instances.\n    # 3. When creating function wrappers or decorators.\n    # 4. When creating objects with dynamic behavior based on internal state.",
      "metadata": {
        "trusted": true
      },
      "outputs": [],
      "execution_count": null
    },
    {
      "id": "d837e742-8288-4361-9a3f-57c75d62f673",
      "cell_type": "markdown",
      "source": "# Practical Questions",
      "metadata": {}
    },
    {
      "id": "6e6e83a5-9f02-4d23-983d-a5e97197f945",
      "cell_type": "code",
      "source": "# 1. Creat a parent class Animal with a method speak() that print a generic message. Create a child class Dog that overrides the speak() method to print \"Bark!\".\n# Parent class\nclass Animal:\n    def speak(self):\n        print(\"Animal makes a sound\")\n\nclass Dog(Animal):\n    def speak(self):\n        print(\"Bark!\")\n\nanimal = Animal()\ndog = Dog()\n\nanimal.speak()\ndog.speak()",
      "metadata": {
        "trusted": true
      },
      "outputs": [],
      "execution_count": null
    },
    {
      "id": "3d7d28e9-ebe9-46fc-ac90-5cee2853d061",
      "cell_type": "code",
      "source": "# 2. Write a program to creat an abstract class Shape with a method area (). Derive classes Circle and Rectangle from it and implement the area() method in both.\nfrom abc import ABC, abstractmethod\nimport math\n\nclass Shape(ABC):\n    @abstractmethod\n    def area(self):\n        pass\n\nclass Circle(Shape):\n    def __init__(self, radius):\n        self.radius = radius\n    \n    def area(self):\n        return math.pi * self.radius ** 2\n\nclass Rectangle(Shape):\n    def __init__(self, length, width):\n        self.length = length\n        self.width = width\n    \n    def area(self):\n        return self.length * self.width\n\ncircle = Circle(5)\nrectangle = Rectangle(4, 6)\n\nprint(f\"Circle area: {circle.area():.2f}\")\nprint(f\"Rectangle area: {rectangle.area():.2f}\")\n",
      "metadata": {
        "trusted": true
      },
      "outputs": [],
      "execution_count": null
    },
    {
      "id": "a6db98b1-443e-4a7e-a420-afc4fc694403",
      "cell_type": "code",
      "source": "# 3. Implement a multi-level inheritance scenario where a class Vehicle has an attribute type. Derive a class Car and further derive a class ElectricCar that adds a battery attribute.\n\nclass Vehicle:\n    def __init__(self, type):\n        self.type = type\n    \n    def display_type(self):\n        print(f\"Vehicle type: {self.type}\")\n\nclass Car(Vehicle):\n    def __init__(self, type, brand):\n        super().__init__(type)\n        self.brand = brand\n    \n    def display_brand(self):\n        print(f\"Car brand: {self.brand}\")\n\nclass ElectricCar(Car):\n    def __init__(self, type, brand, battery_capacity):\n        super().__init__(type, brand)\n        self.battery_capacity = battery_capacity\n    \n    def display_battery(self):\n        print(f\"Battery capacity: {self.battery_capacity} kWh\")\n\ntesla = ElectricCar(\"Electric\", \"Tesla\", 75)\n\ntesla.display_type()\ntesla.display_brand()\ntesla.display_battery()\n",
      "metadata": {
        "trusted": true
      },
      "outputs": [],
      "execution_count": null
    },
    {
      "id": "21befe00-51d7-45fe-8184-8349d9390781",
      "cell_type": "code",
      "source": "# 4. Demonstrate polymorphism by creating a base class Bird with a method fly(). Creat two derived classes Sparrow and Penguin that override the fly() method.\n\nclass Bird:\n    def fly(self):\n        print(\"Some birds can fly\")\n\nclass Sparrow(Bird):\n    def fly(self):\n        print(\"Sparrow can fly\")\n\nclass Penguin(Bird):\n    def fly(self):\n        print(\"Penguin cannot fly\")\n\ndef make_bird_fly(bird):\n    bird.fly()\n\nsparrow = Sparrow()\npenguin = Penguin()\n\nmake_bird_fly(sparrow)\nmake_bird_fly(penguin)",
      "metadata": {
        "trusted": true
      },
      "outputs": [],
      "execution_count": null
    },
    {
      "id": "89616b0f-5d57-4902-8b3b-1d805e331053",
      "cell_type": "code",
      "source": "# 5. Write a program to demonstrate encapsulation by creating a class BankAccount with private attributes balance and methods to deposit, withdraw, and check balance.\nclass BankAccount:\n    def __init__(self, initial_balance):\n        self.__balance = initial_balance \n    \n    def deposit(self, amount):\n        if amount > 0:\n            self.__balance += amount\n            print(f\"Deposited: ${amount:.2f}\")\n        else:\n            print(\"Invalid deposit amount\")\n\n    def withdraw(self, amount):\n        if 0 < amount <= self.__balance:\n            self.__balance -= amount\n            print(f\"Withdrew: ${amount:.2f}\")\n        else:\n            print(\"Invalid withdrawal amount or insufficient balance\")\n\n    def check_balance(self):\n        print(f\"Current balanc\n",
      "metadata": {
        "trusted": true
      },
      "outputs": [],
      "execution_count": null
    },
    {
      "id": "f0ef4d27-ad65-41f1-bf8c-75493b67ebed",
      "cell_type": "code",
      "source": "# 6. Demonstrate runtime polymorphism using a method play() in a base class Instrument. Derive classes Guitar and Piano that implement their own version of play().\n\nclass Instrument:\n    def play(self):\n        print(\"Playing an instrument\")\n\nclass Guitar(Instrument):\n    def play(self):\n        print(\"Playing the guitar\")\n\nclass Piano(Instrument):\n    def play(self):\n        print(\"Playing the piano\")\n\ndef play_instrument(instrument):\n    instrument.play()\n\nguitar = Guitar()\npiano = Piano()\n\nplay_instrument(guitar)\nplay_instrument(piano)",
      "metadata": {
        "trusted": true
      },
      "outputs": [],
      "execution_count": null
    },
    {
      "id": "b6410ed5-92d9-4d71-a981-1a74ea9ad5e6",
      "cell_type": "code",
      "source": "# 7. Creat a class MathOperations with a class method add_numbers() to add two numbers and a static method substract_numbers() to substract two numbers.\n\nclass MathOperations:\n    @classmethod\n    def add_numbers(cls, a, b):\n        return a + b\n    \n    @staticmethod\n    def subtract_numbers(a, b):\n        return a - b\n\nresult_add = MathOperations.add_numbers(10, 5)\nprint(f\"Sum: {result_add}\")\n\nresult_subtract = MathOperations.subtract_numbers(10, 5)\nprint(f\"Difference: {result_subtract}\")",
      "metadata": {
        "trusted": true
      },
      "outputs": [],
      "execution_count": null
    },
    {
      "id": "bd2883b0-f6a0-42ff-9224-a32e1f8b90e1",
      "cell_type": "code",
      "source": "# 8. Implement a class Person with a class method to count the total number of persons created.\n\nclass Person:\n    count = 0\n    \n    def __init__(self, name):\n        self.name = name\n        Person.count += 1\n    \n    @classmethod\n    def total_persons(cls):\n        return cls.count\n\np1 = Person(\"Alice\")\np2 = Person(\"Bob\")\np3 = Person(\"Charlie\")\n\nprint(f\"Total persons created: {Person.total_persons()}\") ",
      "metadata": {
        "trusted": true
      },
      "outputs": [],
      "execution_count": null
    },
    {
      "id": "31f139ec-f47e-4f9a-b186-305ec576a9a7",
      "cell_type": "code",
      "source": "# 9. Write a class Fraction with attributes numerator and denominator. Override the str method to display the fraction as \"numerator/denominator\".\n\nclass Fraction:\n    def __init__(self, numerator, denominator):\n        self.numerator = numerator\n        self.denominator = denominator\n    \n    def __str__(self):\n        return f\"{self.numerator}/{self.denominator}\"\n\nfraction = Fraction(3, 4)\n\nprint(fraction)",
      "metadata": {
        "trusted": true
      },
      "outputs": [],
      "execution_count": null
    },
    {
      "id": "4bebc67d-219e-4cb5-95d1-79bc78d53861",
      "cell_type": "code",
      "source": "# 10. Demonstrate operator overloading by creating a class Vector and overriding the add method to add two vectors.\n\nclass Vector:\n    def __init__(self, x, y):\n        self.x = x\n        self.y = y\n    \n    def __add__(self, other):\n        return Vector(self.x + other.x, self.y + other.y)\n    \n    def __str__(self):\n        return f\"({self.x}, {self.y})\"\n\nv1 = Vector(2, 3)\nv2 = Vector(4, 5)\n\nresult = v1 + v2\n\nprint(result)",
      "metadata": {
        "trusted": true
      },
      "outputs": [],
      "execution_count": null
    },
    {
      "id": "0033b5f0-5ffe-41e2-ad69-53c1c361c712",
      "cell_type": "code",
      "source": "# 11. Creat a class Person with attributes name and age. Add a method greet() that prints \"Hello, my name is {name} and I am {age} years old\"\n\nclass Person:\n    def __init__(self, name, age):\n        self.name = name\n        self.age = age\n    \n    def greet(self):\n        print(f\"Hello, my name is {self.name} and I am {self.age} years old\")\n\nperson = Person(\"Ashish\", 28)\n\nperson.greet()",
      "metadata": {
        "trusted": true
      },
      "outputs": [],
      "execution_count": null
    },
    {
      "id": "67c1ae8d-3127-41c4-b310-a617484736dd",
      "cell_type": "code",
      "source": "# 12.Implement a class Student with attributes name and grades. Creat a method average_grade() to compute the average of the grades. \n\nclass Student:\n    def __init__(self, name, grades):\n        self.name = name\n        self.grades = grades\n    \n    def average_grade(self):\n        if self.grades:\n            return sum(self.grades) / len(self.grades)\n        return 0\n    \nstudent = Student(\"Ashish\", [85, 90, 78, 92])\n\nprint(f\"Average grade of {student.name}: {student.average_grade():.2f}\") ",
      "metadata": {
        "trusted": true
      },
      "outputs": [],
      "execution_count": null
    },
    {
      "id": "320975c0-0444-437f-b1ee-00a181a2bd1c",
      "cell_type": "code",
      "source": "# 13. Creat a class Rectangle with methods set_dimensions() to set the dimensions and area() to calculate the area.\n\nclass Rectangle:\n    def __init__(self):\n        self.length = 0\n        self.width = 0\n    \n    def set_dimensions(self, length, width):\n        self.length = length\n        self.width = width\n    \n    def area(self):\n        return self.length * self.width\n\nrect = Rectangle()\n\nrect.set_dimensions(5, 3)\n\nprint(f\"Area of rectangle: {rect.area()}\") ",
      "metadata": {
        "trusted": true
      },
      "outputs": [],
      "execution_count": null
    },
    {
      "id": "f081c17c-fa0a-4677-abb5-6eeea1358cfc",
      "cell_type": "code",
      "source": "# 14. Creat a class Employee with a method calculate_salary() that computes the salary based on hours worked and hourly rate. Create a derived class Manager that adds a bonus to the salary.\n\nclass Employee:\n    def __init__(self, name, hours_worked, hourly_rate):\n        self.name = name\n        self.hours_worked = hours_worked\n        self.hourly_rate = hourly_rate\n    \n    def calculate_salary(self):\n        return self.hours_worked * self.hourly_rate\n\nclass Manager(Employee):\n    def __init__(self, name, hours_worked, hourly_rate, bonus):\n        super().__init__(name, hours_worked, hourly_rate)\n        self.bonus = bonus\n    \n    def calculate_salary(self):\n        base_salary = super().calculate_salary()\n        return base_salary + self.bonus\n\nemployee = Employee(\"Ashish\", 40, 20)\nmanager = Manager(\"Ajay\", 40, 30, 500)\n\nprint(f\"{employee.name}'s salary: ${employee.calculate_salary()}\")\nprint(f\"{manager.name}'s salary: ${manager.calculate_salary()}\")",
      "metadata": {
        "trusted": true
      },
      "outputs": [],
      "execution_count": null
    },
    {
      "id": "3420b402-cd67-4db0-b181-ceeb7c5d23e6",
      "cell_type": "code",
      "source": "# 15. Creat a class Product with attributes name, price, and quantity. Implement a method total_price() that calculate the total price of the product.\n\nclass Product:\n    def __init__(self, name, price, quantity):\n        self.name = name\n        self.price = price\n        self.quantity = quantity\n    \n    def total_price(self):\n        return self.price * self.quantity\n\nproduct = Product(\"Laptop\", 50000, 2)\n\nprint(f\"Total price of {product.name}: ₹{product.total_price()}\")  ",
      "metadata": {
        "trusted": true
      },
      "outputs": [],
      "execution_count": null
    },
    {
      "id": "25d56f12-620a-4a47-aeb1-4a6357e92c33",
      "cell_type": "code",
      "source": "# 16. Creat a class Animal with an abstract method sound(). Creat two derived classes Cow and Sheep that implement the sound() method.\n\nfrom abc import ABC, abstractmethod\n\nclass Animal(ABC):\n    @abstractmethod\n    def sound(self):\n        pass\n\nclass Cow(Animal):\n    def sound(self):\n        print(\"Cow says Moo\")\n\nclass Sheep(Animal):\n    def sound(self):\n        print(\"Sheep says Baa\")\n\ncow = Cow()\nsheep = Sheep()\n\ncow.sound()\nsheep.sound()",
      "metadata": {
        "trusted": true
      },
      "outputs": [],
      "execution_count": null
    },
    {
      "id": "f1ad8c15-460a-4969-a8e2-43101e490889",
      "cell_type": "code",
      "source": "# 17. Creat a class Book with attributes title, author, and year_published. Add a method get_book_info() that returns a formatted string with the book's details.\n\nclass Book:\n    def __init__(self, title, author, year_published):\n        self.title = title\n        self.author = author\n        self.year_published = year_published\n    \n    def get_book_info(self):\n        return f\"'{self.title}' by {self.author}, published in {self.year_published}\"\n\nbook = Book(\"To Kill a Mockingbird\", \"Harper Lee\", 1960)\n\nprint(book.get_book_info()) ",
      "metadata": {
        "trusted": true
      },
      "outputs": [],
      "execution_count": null
    },
    {
      "id": "40371a74-3635-4c94-a019-227cfeaa99c7",
      "cell_type": "code",
      "source": "# 18. Creat a class House with attributes address and price. Creat a derived class Mansion that adds an attribute number_of_rooms.\n\nclass House:\n    def __init__(self, address, price):\n        self.address = address\n        self.price = price\n    \n    def display_info(self):\n        print(f\"Address: {self.address}, Price: ₹{self.price}\")\n\nclass Mansion(House):\n    def __init__(self, address, price, number_of_rooms):\n        super().__init__(address, price)\n        self.number_of_rooms = number_of_rooms\n    \n    def display_info(self):\n        super().display_info()\n        print(f\"Number of rooms: {self.number_of_rooms}\")\n\nhouse = House(\"123 Main Street\", 5000000)\nmansion = Mansion(\"456 Luxury Lane\", 20000000, 10)\n\nhouse.display_info()\n\nmansion.display_info()",
      "metadata": {
        "trusted": true
      },
      "outputs": [],
      "execution_count": null
    }
  ]
}